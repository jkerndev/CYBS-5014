{
 "cells": [
  {
   "cell_type": "markdown",
   "id": "d759256f-0d21-4c24-9362-38b90bb9ff9b",
   "metadata": {},
   "source": [
    "# Lab2: Memory Process Analysis\n",
    "\n",
    "Identifying Suspicious APT.img file. Notebook run on a [WIN-FOR](https://github.com/digitalsleuth/WIN-FOR) configured machine."
   ]
  },
  {
   "cell_type": "code",
   "execution_count": 29,
   "id": "fa808bc9-b6ac-4ae5-befd-09005c7ed9a5",
   "metadata": {},
   "outputs": [],
   "source": [
    "# Setup\n",
    "\n",
    "from pathlib import Path\n",
    "import subprocess, hashlib, json, textwrap, os, sys, shlex\n",
    "IMG = Path(r\"C:\\Users\\vboxuser\\Downloads\\CYBS-5014\\APT\\APT.img\")\n",
    "CASE_DIR  = Path.cwd() / \"output\"\n",
    "VOL = Path(r\"C:\\Users\\vboxuser\\repos\\volatility3\\vol.py\")\n",
    "if not IMG.is_file():\n",
    "    raise FileNotFoundError(\"File does not exist\")"
   ]
  },
  {
   "cell_type": "markdown",
   "id": "ae033f23-2ebe-4918-ba68-4e3e803353f5",
   "metadata": {},
   "source": [
    "# Hashing the APT file"
   ]
  },
  {
   "cell_type": "code",
   "execution_count": 25,
   "id": "90bfbf21-e617-4d60-a08f-e44cc114d2d1",
   "metadata": {},
   "outputs": [
    {
     "data": {
      "text/plain": [
       "{'md5': '14ac99e2e6980d6a962f0ac2a1cb65c8',\n",
       " 'sha256': '1935771e1d3a3b75cfdf19282332898c7fd7d66b317edd0271ff8f2ed41d69a8'}"
      ]
     },
     "execution_count": 25,
     "metadata": {},
     "output_type": "execute_result"
    }
   ],
   "source": [
    "def file_hashes(p: Path, chunksize=2**20):\n",
    "    h = { 'md5': hashlib.md5(), 'sha256': hashlib.sha256() }\n",
    "    with p.open('rb') as f:\n",
    "        while chunk := f.read(chunksize):\n",
    "            h['md5'].update(chunk); h['sha256'].update(chunk)\n",
    "    return {k:v.hexdigest() for k,v in h.items()}\n",
    "\n",
    "hashes = file_hashes(IMG)\n",
    "(h := (CASE_DIR  / \"evidence_hashes.json\")).write_text(json.dumps({'image': IMG.name, **hashes}, indent=2))\n",
    "hashes"
   ]
  },
  {
   "cell_type": "markdown",
   "id": "5dfe1eb9-73b4-49e3-8f47-6e7b74693380",
   "metadata": {},
   "source": [
    "# Volatility Wrapper Functions"
   ]
  },
  {
   "cell_type": "code",
   "execution_count": 36,
   "id": "5126fae6-822b-4108-8a2b-9fcc45260e63",
   "metadata": {},
   "outputs": [],
   "source": [
    "def vol(plugin, *args):\n",
    "    cmd = [sys.executable, str(VOL), \"-f\", str(IMG), plugin, *args]\n",
    "    out = subprocess.run(cmd, capture_output=True, text=True)\n",
    "    if out.returncode != 0:\n",
    "        print(out.stderr)\n",
    "    return out.stdout\n",
    "\n",
    "def save(txt, name):\n",
    "    p = CASE_DIR  / name\n",
    "    p.write_text(txt)\n",
    "    return p"
   ]
  },
  {
   "cell_type": "markdown",
   "id": "effe5199-645b-448f-a9fe-453ca091bbb8",
   "metadata": {},
   "source": [
    "# Determine OS/banner, KDBG, and Basic Environment\n",
    "\n",
    "Running volatility's info/banner plugin to identify:\n",
    "- OS Family/Version\n",
    "- Kernel Debugger Block (KDBG)\n",
    "- Symbol Context"
   ]
  },
  {
   "cell_type": "code",
   "execution_count": 37,
   "id": "9ffe4ff7-b7f4-4a32-b110-45d66ffcce58",
   "metadata": {},
   "outputs": [
    {
     "name": "stdout",
     "output_type": "stream",
     "text": [
      "Volatility 3 Framework 2.26.2\n",
      "\n",
      "Variable\tValue\n",
      "\n",
      "Kernel Base\t0x804d7000\n",
      "DTB\t0x319000\n",
      "Symbols\tfile:///C:/Users/vboxuser/repos/volatility3/volatility3/symbols/windows/ntkrnlpa.pdb/FD7B256CD2D14BC0B35BA9B89F691346-1.json.xz\n",
      "Is64Bit\tFalse\n",
      "IsPAE\tTrue\n",
      "layer_name\t0 WindowsIntelPAE\n",
      "memory_layer\t1 FileLayer\n",
      "KdDebuggerDataBlock\t0x80545b60\n",
      "NTBuildLab\t2600.xpsp_sp3_gdr.080814-1236\n",
      "CSDVersion\t3\n",
      "KdVersionBlock\t0x80545b38\n",
      "Major/Minor\t15.2600\n",
      "MachineType\t332\n",
      "KeNumberProcessors\t1\n",
      "SystemTime\t2009-05-05 19:28:57+00:00\n",
      "NtSystemRoot\tC:\\WINDOWS\n",
      "NtProductType\tNtProductWinNt\n",
      "NtMajorVersion\t5\n",
      "NtMinorVersion\t1\n",
      "PE MajorOperatingSystemVersion\t5\n",
      "PE MinorOperatingSystemVersion\t1\n",
      "PE Machine\t332\n",
      "PE TimeDateStamp\tThu Aug 14 09:33:12 2008\n",
      "\n"
     ]
    }
   ],
   "source": [
    "info = vol(\"windows.info\")\n",
    "save(info, \"01_windows.info.txt\")\n",
    "print(info[:1200])"
   ]
  },
  {
   "cell_type": "markdown",
   "id": "507828f0-4446-4d49-b5ce-d849e51b2a6a",
   "metadata": {},
   "source": [
    "Useful Information:\n",
    "- Windows NtProductWinNt 5.1 is the kernel version used for Windows XP\n",
    "- NTBuildLab: xpsp_sp3 refers to Service Pack 3; 080814-1236 refers to the compile time of the build (August 14, 2008)\n",
    "- Intel x86 x32-bit processor (MachineType 332), single CPU core (KeNumberProcessors)\n",
    "- Directory Table Base: 0x319000\n",
    "- Symbols: Structures and functions locations in memory"
   ]
  }
 ],
 "metadata": {
  "kernelspec": {
   "display_name": "Python [conda env:lab]",
   "language": "python",
   "name": "conda-env-lab-py"
  },
  "language_info": {
   "codemirror_mode": {
    "name": "ipython",
    "version": 3
   },
   "file_extension": ".py",
   "mimetype": "text/x-python",
   "name": "python",
   "nbconvert_exporter": "python",
   "pygments_lexer": "ipython3",
   "version": "3.13.7"
  }
 },
 "nbformat": 4,
 "nbformat_minor": 5
}
